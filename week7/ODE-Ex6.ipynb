{
 "metadata": {
  "name": "ODE-Ex6"
 },
 "nbformat": 3,
 "nbformat_minor": 0,
 "worksheets": [
  {
   "cells": [
    {
     "cell_type": "heading",
     "level": 4,
     "metadata": {},
     "source": [
      "1. Example 1 and Exercise 1"
     ]
    },
    {
     "cell_type": "code",
     "collapsed": false,
     "input": [
      "f = lambda x, y: x + 2*y\n",
      "\n",
      "def euler(dydx, y0, yf, stepsize):\n",
      "    x = np.arange(0, yf + stepsize, stepsize)\n",
      "    y = np.zeros(x.size)\n",
      "    \n",
      "    y[0] = y0\n",
      "    for i in range(y.size -1):\n",
      "        y[i+1] = y[i] + dydx(x[i], y[i])*stepsize          \n",
      "    return x,y\n",
      "\n",
      "yfinal = 1\n",
      "ans = euler(f, 0, yfinal, .25)[1][-1]\n",
      "print ans\n",
      "ans = euler(f, 0, yfinal, .02)[1][-1]\n",
      "print ans"
     ],
     "language": "python",
     "metadata": {},
     "outputs": [
      {
       "output_type": "stream",
       "stream": "stdout",
       "text": [
        "0.515625\n",
        "1.02667083657\n"
       ]
      }
     ],
     "prompt_number": 24
    },
    {
     "cell_type": "code",
     "collapsed": false,
     "input": [
      "yfinal = 1\n",
      "plot(euler(f, 0, yfinal, .25)[0], euler(f, 0, yfinal, .25)[1])\n",
      "plot(euler(f, 0, yfinal, .02)[0], euler(f, 0, yfinal, .02)[1])\n",
      "\n",
      "x = np.arange(0, yfinal+.01, .01)\n",
      "plot (x, .25*exp(2*x) - .5*x - .25, 'r--')\n",
      "show()"
     ],
     "language": "python",
     "metadata": {},
     "outputs": [
      {
       "output_type": "display_data",
       "png": "[encoded data removed]",
       "text": [
        "<matplotlib.figure.Figure at 0x105864ed0>"
       ]
      }
     ],
     "prompt_number": 25
    },
    {
     "cell_type": "code",
     "collapsed": false,
     "input": [
      "def eulerCromer(f, y0, yf, stepsize):\n",
      "    x = np.arange(0, yf+stepsize, stepsize)\n",
      "    y = np.zeros(x.size)\n",
      "    \n",
      "    y[0] = y0\n",
      "    y[1] = y[0] + f(x[0], y[0])*stepsize     \n",
      "    for i in range(1,y.size-1):\n",
      "        interim = y[i] + f(x[i], y[i])*stepsize          \n",
      "        y[i+1] = y[i] + f(x[i], interim)*stepsize          \n",
      "    return x,y"
     ],
     "language": "python",
     "metadata": {},
     "outputs": [],
     "prompt_number": 10
    },
    {
     "cell_type": "code",
     "collapsed": false,
     "input": [
      "yfinal = 5\n",
      "plot(eulerCromer(f, 0, yfinal, .25)[0], eulerCromer(f, 0, yfinal, .25)[1])\n",
      "plot(eulerCromer(f, 0, yfinal, .02)[0], eulerCromer(f, 0, yfinal, .02)[1])\n",
      "\n",
      "x = np.arange(0,yfinal+.01, .01)\n",
      "plot (x, .25*exp(2*x) - .5*x - .25, 'r--')\n",
      "show()"
     ],
     "language": "python",
     "metadata": {},
     "outputs": [
      {
       "output_type": "display_data",
       "png": "[encoded data removed]",
       "text": [
        "<matplotlib.figure.Figure at 0x1057e0e90>"
       ]
      }
     ],
     "prompt_number": 36
    },
    {
     "cell_type": "code",
     "collapsed": false,
     "input": [
      "ans = eulerCromer(f, 0, 1, .25)[1][-1]\n",
      "print ans\n",
      "ans = eulerCromer(f, 0, 1, .02)[1][-1]\n",
      "print ans"
     ],
     "language": "python",
     "metadata": {},
     "outputs": [
      {
       "output_type": "stream",
       "stream": "stdout",
       "text": [
        "0.896484375\n",
        "1.10444061944\n"
       ]
      }
     ],
     "prompt_number": 32
    },
    {
     "cell_type": "code",
     "collapsed": false,
     "input": [
      "def midpoint(f, y0, yf, stepsize):\n",
      "    x = np.arange(0, yf+stepsize, stepsize)\n",
      "    y = np.zeros(x.size)\n",
      "    \n",
      "    y[0] = y0\n",
      "    y[1] = y[0] + f(x[0], y[0])*stepsize     \n",
      "    for i in range(1,y.size-1):\n",
      "        finslope = y[i] + f(x[i], y[i])*stepsize\n",
      "        y[i+1] = y[i] + f(x[i], (finslope + y[i])/2)*stepsize          \n",
      "    return x,y"
     ],
     "language": "python",
     "metadata": {},
     "outputs": [],
     "prompt_number": 33
    },
    {
     "cell_type": "code",
     "collapsed": false,
     "input": [
      "yfinal = 5\n",
      "plot(midpoint(f, 0, yfinal, .25)[0], midpoint(f, 0, yfinal, .25)[1])\n",
      "plot(midpoint(f, 0, yfinal, .02)[0], midpoint(f, 0, yfinal, .02)[1])\n",
      "\n",
      "x = np.arange(0, yfinal+.01, .01)\n",
      "plot (x, .25*exp(2*x) - .5*x - .25, 'r--')\n",
      "show()\n",
      "\n",
      "ans = midpoint(f, 0, yfinal, .25)[1][-1]\n",
      "print ans\n",
      "ans = midpoint(f, 0, yfinal, .02)[1][-1]\n",
      "print ans"
     ],
     "language": "python",
     "metadata": {},
     "outputs": [
      {
       "output_type": "display_data",
       "png": "[encoded data removed]",
       "text": [
        "<matplotlib.figure.Figure at 0x1057b0210>"
       ]
      },
      {
       "output_type": "stream",
       "stream": "stdout",
       "text": [
        "3294.13568204\n",
        "5381.94514431\n"
       ]
      }
     ],
     "prompt_number": 37
    },
    {
     "cell_type": "heading",
     "level": 4,
     "metadata": {},
     "source": [
      "2. Terminal Velocity"
     ]
    },
    {
     "cell_type": "raw",
     "metadata": {},
     "source": [
      "human cannonball\n",
      "vo, theta\n",
      "33.6, 1.053\n",
      "38.95, 1.195\n",
      "30.5, .656\n",
      "\n",
      "no resistance\n",
      "30, 1.053\n",
      "33.75, 1.195\n",
      "28.05, .656\n",
      "\n",
      "golfball\n",
      "36.25, .474\n",
      "33.3, .705\n",
      "36.25, 1\n",
      "\n",
      "no resistance\n",
      "31.1, .474\n",
      "28.2, .705\n",
      "29.35, 1\n",
      "\n",
      "baseball\n",
      "40, .345\n",
      "34.05, .581\n",
      "36.8, 1.014\n",
      "\n",
      "no resistance\n",
      "34.25, .345\n",
      "28.85, .581\n",
      "29.4, 1.014"
     ]
    },
    {
     "cell_type": "heading",
     "level": 4,
     "metadata": {},
     "source": [
      "(b)"
     ]
    },
    {
     "cell_type": "code",
     "collapsed": false,
     "input": [],
     "language": "python",
     "metadata": {},
     "outputs": [],
     "prompt_number": 3
    },
    {
     "cell_type": "heading",
     "level": 4,
     "metadata": {},
     "source": [
      "(c)"
     ]
    },
    {
     "cell_type": "raw",
     "metadata": {},
     "source": [
      "vo = 7050 for 0*\n",
      "\n",
      "vo = 515 for 5* or .087266 rad\n",
      "vo = 368.5 for 10* or .17453 rad\n"
     ]
    }
   ],
   "metadata": {}
  }
 ]
}