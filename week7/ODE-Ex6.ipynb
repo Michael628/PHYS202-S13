{
 "metadata": {
  "name": "ODE-Ex6"
 },
 "nbformat": 3,
 "nbformat_minor": 0,
 "worksheets": [
  {
   "cells": [
    {
     "cell_type": "heading",
     "level": 4,
     "metadata": {},
     "source": [
      "Example 1"
     ]
    },
    {
     "cell_type": "heading",
     "level": 4,
     "metadata": {},
     "source": [
      "Euler Method"
     ]
    },
    {
     "cell_type": "code",
     "collapsed": false,
     "input": [
      "def euler(dydx, y0, yf, stepsize):\n",
      "    \"\"\"Implements Euler's method for solving the differential equation dydx over range y0 to yf\n",
      "    with stepsize-sized intervals\n",
      "    Returns the interval and the calculated solution\n",
      "    \"\"\"\n",
      "    x = np.arange(0, yf + stepsize, stepsize)\n",
      "    y = np.zeros(x.size)\n",
      "    \n",
      "    y[0] = y0\n",
      "    for i in range(y.size -1):\n",
      "        y[i+1] = y[i] + dydx(x[i], y[i])*stepsize          \n",
      "    return x,y"
     ],
     "language": "python",
     "metadata": {},
     "outputs": [],
     "prompt_number": 72
    },
    {
     "cell_type": "heading",
     "level": 4,
     "metadata": {},
     "source": [
      "Euler-Cromer Method"
     ]
    },
    {
     "cell_type": "code",
     "collapsed": false,
     "input": [
      "def eulerCromer(f, y0, yf, stepsize):\n",
      "    \"\"\"A modest improvement on Euler's method. Uses the forward slope calculation instead of the\n",
      "    current slope. Function f, range y0 to yf, stepsize-sized intervals.\n",
      "    Returns the interval and the calculated solution\n",
      "    \"\"\"\n",
      "    x = np.arange(0, yf+stepsize, stepsize)\n",
      "    y = np.zeros(x.size)\n",
      "    \n",
      "    y[0] = y0\n",
      "    y[1] = y[0] + f(x[0], y[0])*stepsize     \n",
      "    for i in range(1,y.size-1):\n",
      "        interim = y[i] + f(x[i], y[i])*stepsize          \n",
      "        y[i+1] = y[i] + f(x[i], interim)*stepsize          \n",
      "    return x,y"
     ],
     "language": "python",
     "metadata": {},
     "outputs": [],
     "prompt_number": 73
    },
    {
     "cell_type": "heading",
     "level": 4,
     "metadata": {},
     "source": [
      "Midpoint Method"
     ]
    },
    {
     "cell_type": "code",
     "collapsed": false,
     "input": [
      "def midpoint(f, y0, yf, stepsize):\n",
      "    \"\"\"Moderate improvement on Euler's method. Calculates the slope by averaging the forward and current\n",
      "    slopes. Function f, range y0 to yf, stepsize-sized intervals.\n",
      "    Returns the interval and the calculated solution\n",
      "    \"\"\"\n",
      "    x = np.arange(0, yf+stepsize, stepsize)\n",
      "    y = np.zeros(x.size)\n",
      "    \n",
      "    y[0] = y0\n",
      "    y[1] = y[0] + f(x[0], y[0])*stepsize     \n",
      "    for i in range(1,y.size-1):\n",
      "        finslope = y[i] + f(x[i], y[i])*stepsize\n",
      "        y[i+1] = y[i] + f(x[i], (finslope + y[i])/2)*stepsize          \n",
      "    return x,y"
     ],
     "language": "python",
     "metadata": {},
     "outputs": [],
     "prompt_number": 74
    },
    {
     "cell_type": "heading",
     "level": 4,
     "metadata": {},
     "source": [
      "Exercise 1"
     ]
    },
    {
     "cell_type": "heading",
     "level": 4,
     "metadata": {},
     "source": [
      "(a)"
     ]
    },
    {
     "cell_type": "code",
     "collapsed": false,
     "input": [
      "f = lambda x, y: x + 2*y\n",
      "\n",
      "yfinal = 1\n",
      "ans = euler(f, 0, yfinal, .25)[1][-1]\n",
      "print \"stepsize .25:\"\n",
      "print ans\n",
      "print\n",
      "ans = euler(f, 0, yfinal, .02)[1][-1]\n",
      "print \"stepsize .02:\"\n",
      "print ans"
     ],
     "language": "python",
     "metadata": {},
     "outputs": [
      {
       "output_type": "stream",
       "stream": "stdout",
       "text": [
        "stepsize .25:\n",
        "0.515625\n",
        "\n",
        "stepsize .02:\n",
        "1.02667083657\n"
       ]
      }
     ],
     "prompt_number": 75
    },
    {
     "cell_type": "heading",
     "level": 4,
     "metadata": {},
     "source": [
      "(b)"
     ]
    },
    {
     "cell_type": "code",
     "collapsed": false,
     "input": [
      "yfinal = 1\n",
      "plot(euler(f, 0, yfinal, .25)[0], euler(f, 0, yfinal, .25)[1], label=\"Euler with stepsize .25\")\n",
      "plot(euler(f, 0, yfinal, .02)[0], euler(f, 0, yfinal, .02)[1], label=\"Euler with stepsize .02\")\n",
      "\n",
      "x = np.arange(0, yfinal+.01, .01)\n",
      "plot (x, .25*exp(2*x) - .5*x - .25, 'r--', label=\"Analytic solution\")\n",
      "plt.legend(loc='upper left')\n",
      "show()"
     ],
     "language": "python",
     "metadata": {},
     "outputs": [
      {
       "output_type": "display_data",
       "png": "[encoded data removed]",
       "text": [
        "<matplotlib.figure.Figure at 0x1107f7e10>"
       ]
      }
     ],
     "prompt_number": 76
    },
    {
     "cell_type": "markdown",
     "metadata": {},
     "source": [
      "The smaller step size gives a more accurate result."
     ]
    },
    {
     "cell_type": "heading",
     "level": 4,
     "metadata": {},
     "source": [
      "(c)"
     ]
    },
    {
     "cell_type": "code",
     "collapsed": false,
     "input": [
      "yfinal = 1\n",
      "\n",
      "exact = lambda x: .25*exp(2*x) - .5*x - .25\n",
      "zero = lambda x: 0*x\n",
      "\n",
      "coarse = eulerCromer(f, 0, yfinal, .25)\n",
      "fine = eulerCromer(f, 0, yfinal, .02)\n",
      "\n",
      "coarsemid = midpoint(f, 0, yfinal, .25)\n",
      "finemid = midpoint(f, 0, yfinal, .02)\n",
      "\n",
      "plot(coarse[0], exact(coarse[0]) - coarse[1], label=\"Euler-Cromer error, stepsize .25\")\n",
      "plot(fine[0], exact(fine[0]) - fine[1], label=\"Euler-Cromer error, stepsize .02\")\n",
      "\n",
      "plot(coarsemid[0], exact(coarsemid[0]) - coarsemid[1], label=\"Midpoint error, stepsize .25\")\n",
      "plot(finemid[0], exact(finemid[0]) - finemid[1], label=\"Midpoint error, stepsize .02\")\n",
      "\n",
      "plot(coarse[0], zero(coarse[0]), 'r--', label=\"Analytic solution (no error)\")\n",
      "plt.legend(loc='upper left')\n",
      "show()"
     ],
     "language": "python",
     "metadata": {},
     "outputs": [
      {
       "output_type": "display_data",
       "png": "[encoded data removed]",
       "text": [
        "<matplotlib.figure.Figure at 0x110877ed0>"
       ]
      }
     ],
     "prompt_number": 77
    },
    {
     "cell_type": "markdown",
     "metadata": {},
     "source": [
      "For this function and interval, the Euler-Cromer method with stepsize .02 is the most accurate. However, that is just dumb luck--extending the interval shows the superiority of the midpoint method."
     ]
    },
    {
     "cell_type": "heading",
     "level": 4,
     "metadata": {},
     "source": [
      "2. Terminal Velocity"
     ]
    },
    {
     "cell_type": "heading",
     "level": 4,
     "metadata": {},
     "source": [
      "(a)"
     ]
    },
    {
     "cell_type": "markdown",
     "metadata": {},
     "source": [
      "Target 80m away\n",
      "<table>\n",
      "    <tr>\n",
      "        <td>Human Cannonball</td>\n",
      "        <td>Human Cannonball (No drag)</td>\n",
      "        <td>Golf ball</td>\n",
      "        <td>Golf ball (No drag)</td>\n",
      "        <td>Baseball</td>\n",
      "        <td>Baseball (No drag)</td>\n",
      "    </tr>\n",
      "    <tr>\n",
      "        <td>$v_0\\ (m/s),\\ \\phi\\ (rad)$</td>\n",
      "        <td>$v_0\\ (m/s),\\ \\phi\\ (rad)$</td>\n",
      "        <td>$v_0\\ (m/s),\\ \\phi\\ (rad)$</td>        \n",
      "        <td>$v_0\\ (m/s),\\ \\phi\\ (rad)$</td>        \n",
      "        <td>$v_0\\ (m/s),\\ \\phi\\ (rad)$</td>\n",
      "        <td>$v_0\\ (m/s),\\ \\phi\\ (rad)$</td>\n",
      "    </tr>\n",
      "    <tr>\n",
      "        <td>33.6, 1.05</td>\n",
      "        <td>30.0, 1.05</td>\n",
      "        <td>36.3, .47</td>        \n",
      "        <td>31.1, .47</td>        \n",
      "        <td>40.0, .35</td>\n",
      "        <td>34.3, .35</td>\n",
      "    </tr>    \n",
      "        <tr>\n",
      "        <td>39.0, 1.20</td>\n",
      "        <td>33.8, 1.20</td>\n",
      "        <td>33.3, .71</td>        \n",
      "        <td>28.2, .71</td>        \n",
      "        <td>34.1, .58</td>\n",
      "        <td>28.9, .58</td>\n",
      "    </tr>\n",
      "        <tr>\n",
      "        <td>30.5, .66</td>\n",
      "        <td>28.1, .66</td>\n",
      "        <td>36.3, 1.00</td>        \n",
      "        <td>29.4, 1.00</td>        \n",
      "        <td>36.8, 1.01</td>\n",
      "        <td>29.4, 1.01</td>\n",
      "    </tr>   \n",
      "</table>"
     ]
    },
    {
     "cell_type": "heading",
     "level": 4,
     "metadata": {},
     "source": [
      "(b)"
     ]
    },
    {
     "cell_type": "markdown",
     "metadata": {},
     "source": [
      "Muzzle speed 439 m/s\n",
      "<table>\n",
      "    <tr>\n",
      "        <td>$\\phi_0 (deg)$</td>\n",
      "        <td>$range (m)$</td>\n",
      "    </tr>\n",
      "    <tr>\n",
      "        <td>5</td>\n",
      "        <td>1680</td>\n",
      "    </tr>\n",
      "        <tr>\n",
      "        <td>10</td>\n",
      "        <td>2350</td>\n",
      "    </tr>\n",
      "        <tr>\n",
      "        <td>15</td>\n",
      "        <td>2740</td>\n",
      "    </tr>"
     ]
    },
    {
     "cell_type": "heading",
     "level": 4,
     "metadata": {},
     "source": [
      "(c)"
     ]
    },
    {
     "cell_type": "markdown",
     "metadata": {},
     "source": [
      "Range $\\leq$ 1000m\n",
      "<table>\n",
      "    <tr>\n",
      "        <td>$\\phi_0 (deg)$</td>\n",
      "        <td>$max\\ v_0 (m/s)$</td>\n",
      "    </tr>\n",
      "    <tr>\n",
      "        <td>5</td>\n",
      "        <td>291</td>\n",
      "    </tr>\n",
      "        <tr>\n",
      "        <td>10</td>\n",
      "        <td>207</td>\n",
      "    </tr>\n",
      "        <tr>\n",
      "        <td>15</td>\n",
      "        <td>171</td>\n",
      "    </tr>"
     ]
    },
    {
     "cell_type": "code",
     "collapsed": false,
     "input": [],
     "language": "python",
     "metadata": {},
     "outputs": [],
     "prompt_number": 77
    }
   ],
   "metadata": {}
  }
 ]
}