{
 "metadata": {
  "name": "thursRegression"
 },
 "nbformat": 3,
 "nbformat_minor": 0,
 "worksheets": [
  {
   "cells": [
    {
     "cell_type": "code",
     "collapsed": false,
     "input": [
      "dataIn = loadtxt('input.dat', unpack=True)\n",
      "\n",
      "print DataIn.shape\n",
      "print DataIn"
     ],
     "language": "python",
     "metadata": {},
     "outputs": [
      {
       "output_type": "stream",
       "stream": "stdout",
       "text": [
        "(3, 5)\n",
        "[[ 0.   2.   4.   6.   8. ]\n",
        " [ 1.1  1.9  3.2  4.   5.9]\n",
        " [ 0.1  0.2  0.1  0.3  0.3]]\n"
       ]
      }
     ],
     "prompt_number": 3
    },
    {
     "cell_type": "code",
     "collapsed": false,
     "input": [],
     "language": "python",
     "metadata": {},
     "outputs": [
      {
       "output_type": "stream",
       "stream": "stdout",
       "text": [
        "[ 0.  2.  4.  6.  8.]\n"
       ]
      }
     ],
     "prompt_number": 4
    },
    {
     "cell_type": "code",
     "collapsed": false,
     "input": [
      "x, y = loadtxt('input.dat', unpack=True, usecols=(0,1))\n",
      "print x\n",
      "print y"
     ],
     "language": "python",
     "metadata": {},
     "outputs": [
      {
       "output_type": "stream",
       "stream": "stdout",
       "text": [
        "[ 0.  2.  4.  6.  8.]\n",
        "[ 1.1  1.9  3.2  4.   5.9]\n"
       ]
      }
     ],
     "prompt_number": 3
    },
    {
     "cell_type": "code",
     "collapsed": false,
     "input": [
      "x, y = loadtxt('input.csv', unpack=True, delimiter=\",\", usecols=(0,1))\n",
      "print x"
     ],
     "language": "python",
     "metadata": {},
     "outputs": [
      {
       "output_type": "stream",
       "stream": "stdout",
       "text": [
        "[ 0.  2.  4.  6.  8.]\n"
       ]
      }
     ],
     "prompt_number": 9
    },
    {
     "cell_type": "code",
     "collapsed": false,
     "input": [
      "t = np.arange(0.,1.,.1)\n",
      "v = np.array([.137,.454,.491,.713,.850,.926,1.149,1.327,1.5612,1.874])"
     ],
     "language": "python",
     "metadata": {},
     "outputs": [],
     "prompt_number": 10
    },
    {
     "cell_type": "code",
     "collapsed": false,
     "input": [
      "p = np.ones(t.size)*.1*v+.15\n",
      "print p\n",
      "print t"
     ],
     "language": "python",
     "metadata": {},
     "outputs": [
      {
       "output_type": "stream",
       "stream": "stdout",
       "text": [
        "[ 0.1637   0.1954   0.1991   0.2213   0.235    0.2426   0.2649   0.2827\n",
        "  0.30612  0.3374 ]\n",
        "[ 0.   0.1  0.2  0.3  0.4  0.5  0.6  0.7  0.8  0.9]\n"
       ]
      }
     ],
     "prompt_number": 20
    },
    {
     "cell_type": "code",
     "collapsed": false,
     "input": [
      "savetxt('output.dat', (t,p))\n",
      "\n",
      "DataOut = column_stack((t,p))\n",
      "savetxt('output.dat', DataOut, fmt=('%3i', '%4.3f'), delimiter=',')\n"
     ],
     "language": "python",
     "metadata": {},
     "outputs": [],
     "prompt_number": 24
    },
    {
     "cell_type": "code",
     "collapsed": false,
     "input": [
      "f = open(\"output.dat\", \"w\")\n",
      "f.write(\"#heres a comment \\n\\n\")\n",
      "savetxt(f, DataOut, fmt=('%3i', '%4.3f'))\n",
      "f.close()"
     ],
     "language": "python",
     "metadata": {},
     "outputs": [],
     "prompt_number": 27
    },
    {
     "cell_type": "heading",
     "level": 4,
     "metadata": {},
     "source": [
      "Exercise 1."
     ]
    },
    {
     "cell_type": "code",
     "collapsed": false,
     "input": [
      "t = np.arange(1,11,1, dtype=int)\n",
      "p = np.array([7.75, 7.33, 6.89, 6.45, 5.96, 5.55, 5.10, 4.49, 3.93, 3.58])\n",
      "u = np.array([.02, .03, .03, .04, .05, .06, .08, .11, .14, .17])\n",
      "\n",
      "DataOut = column_stack((t,p,u))\n",
      "\n",
      "f = open(\"linearData.dat\", \"w\")\n",
      "f.write(\"#time(s) position(m) uncertainty(m) \\n\")\n",
      "savetxt(f, DataOut, fmt=('%i', '%4.2f', '%4.2f'))\n",
      "f.close()\n",
      "\n",
      "f = open(\"linearData.csv\", \"w\")\n",
      "f.write(\"#time(s) position(m) uncertainty(m) csv \\n\")\n",
      "savetxt(f, DataOut, fmt=('%i', '%4.2f', '%4.2f'), delimiter=\",\")\n",
      "f.close()"
     ],
     "language": "python",
     "metadata": {},
     "outputs": [],
     "prompt_number": 39
    },
    {
     "cell_type": "heading",
     "level": 4,
     "metadata": {},
     "source": [
      "Exercise 2."
     ]
    },
    {
     "cell_type": "heading",
     "level": 4,
     "metadata": {},
     "source": [
      "(a)"
     ]
    },
    {
     "cell_type": "code",
     "collapsed": false,
     "input": [
      "def LinearLeastSquaresFit(xdata, ydata):\n",
      "    \"\"\"\n",
      "    Take in arrays representing (x,y) values for a set of lienarly varying data and perform a linear\n",
      "    least squares regression. Return the resulting slope and intercept parameters of the best fit\n",
      "    line with their uncertainties.\n",
      "    \"\"\"\n",
      "    n = float(xdata.size)\n",
      "    x = sum(xdata)/n\n",
      "    y = sum(ydata)/n\n",
      "    xx = sum(xdata**2)/n\n",
      "    xy = sum(xdata*ydata)/n\n",
      "    \n",
      "    m = (xy - x*y)/(xx - x**2)\n",
      "    b = (xx*y - x*xy)/(xx - x**2)\n",
      "    \n",
      "    delsq = sum((ydata-(m*xdata + b))**2)/n    \n",
      "    sigy = np.sqrt( (1/(n-2)*delsq) )\n",
      "    sigm = np.sqrt( (1/(n-2))* (delsq/(xx-x**2)) )\n",
      "    sigb = np.sqrt( (1/(n-2))* (delsq*xx/(xx-x**2)) )\n",
      "    return m, b, sigm, sigb"
     ],
     "language": "python",
     "metadata": {},
     "outputs": [],
     "prompt_number": 21
    },
    {
     "cell_type": "code",
     "collapsed": false,
     "input": [
      "x, y = loadtxt('linearData.dat', unpack=True, usecols=(0,1), dtype='float')\n",
      "\n",
      "m, b, merr, berr = LinearLeastSquaresFit(x,y)\n",
      "print \"m = %.4f with error SD %.4f\" % (m,merr)\n",
      "print \"b = %.4f with error SD %.4f\" % (b,berr)"
     ],
     "language": "python",
     "metadata": {},
     "outputs": [
      {
       "output_type": "stream",
       "stream": "stdout",
       "text": [
        "m = -0.4715 with error SD 0.0080\n",
        "b = 8.2960 with error SD 0.0496\n"
       ]
      }
     ],
     "prompt_number": 44
    },
    {
     "cell_type": "code",
     "collapsed": false,
     "input": [
      "linelabel = \"y = %.4fx + %.4f\" % (m,b)\n",
      "\n",
      "plot(x, m*x+b, 'r', label=linelabel)\n",
      "plot(x, (m + merr)*x + (b + berr), 'r:')\n",
      "plot(x, (m - merr)*x + (b - berr), 'r:')\n",
      "plot(x, y, 'ko', markersize=5)\n",
      "xlabel(\"x\")\n",
      "ylabel(\"y\")\n",
      "\n",
      "\n",
      "legend(loc=\"lower left\")\n",
      "show()"
     ],
     "language": "python",
     "metadata": {},
     "outputs": [
      {
       "output_type": "display_data",
       "png": "[encoded data removed]",
       "text": [
        "<matplotlib.figure.Figure at 0x1061edc90>"
       ]
      }
     ],
     "prompt_number": 87
    },
    {
     "cell_type": "heading",
     "level": 4,
     "metadata": {},
     "source": [
      "Exercise 3:\n"
     ]
    },
    {
     "cell_type": "heading",
     "level": 4,
     "metadata": {},
     "source": [
      "Weighted Linear Least Squares"
     ]
    },
    {
     "cell_type": "code",
     "collapsed": false,
     "input": [
      "def WeightedLinearLeastSquaresFit(x,y,w):\n",
      "    \"\"\"\n",
      "    Take in arrays representing (x,y) values for a set of linearly varying\n",
      "    data and an array of weights w. Perform a weighted linear least squares regression.\n",
      "    Return the resulting slope and intercept parameters of the best fit line with their uncertainties.\n",
      "\n",
      "    If the weights are all equal to one, the uncertainies on the parameters are calculated using the \n",
      "    non-weighted least squares equations.\n",
      "    \"\"\"\n",
      "    "
     ],
     "language": "python",
     "metadata": {},
     "outputs": []
    }
   ],
   "metadata": {}
  }
 ]
}