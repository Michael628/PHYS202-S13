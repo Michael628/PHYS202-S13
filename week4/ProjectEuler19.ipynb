{
 "metadata": {
  "name": "ProjectEuler19"
 },
 "nbformat": 3,
 "nbformat_minor": 0,
 "worksheets": [
  {
   "cells": [
    {
     "cell_type": "markdown",
     "metadata": {},
     "source": [
      "Project Euler Problem 19\n",
      "=====\n"
     ]
    },
    {
     "cell_type": "markdown",
     "metadata": {},
     "source": [
      "You are given the following information, but you may prefer to do some research for yourself.\n",
      "\n",
      "* 1 Jan 1900 was a Monday.\n",
      "* Thirty days has September,\n",
      "* April, June and November.\n",
      "* All the rest have thirty-one,\n",
      "* Saving February alone,\n",
      "* Which has twenty-eight, rain or shine.\n",
      "* And on leap years, twenty-nine.\n",
      "* A leap year occurs on any year evenly divisible by 4, but not on a century unless it is divisible by 400.\n",
      "\n",
      "How many Sundays fell on the first of the month during the twentieth century (1 Jan 1901 to 31 Dec 2000)?\n"
     ]
    },
    {
     "cell_type": "code",
     "collapsed": false,
     "input": [
      "#27 Apr 13\n",
      "import numpy as np\n",
      "\n",
      "apr = jun = sep = nov = range(1,31)\n",
      "jan = mar = may = jul = aug = oct = dec = range(1,32)\n",
      "\n",
      "def makeyear(isleap):\n",
      "    \"\"\"\n",
      "    create a big list of month dates for all the months, one after the other\n",
      "    in: boolean  is it a leapyear?\n",
      "    out: list of dates (1,2,3...29,30,31,1,2,3)\n",
      "    \"\"\"\n",
      "    if isleap:\n",
      "        febdays = 29+1\n",
      "    else:\n",
      "        febdays = 28+1\n",
      "    feb = range(1,febdays)\n",
      "    build = []\n",
      "    build.extend(jan)\n",
      "    build.extend(feb)\n",
      "    build.extend(mar)\n",
      "    build.extend(apr)\n",
      "    build.extend(may)\n",
      "    build.extend(jun)\n",
      "    build.extend(jul)\n",
      "    build.extend(aug)\n",
      "    build.extend(sep)\n",
      "    build.extend(oct)\n",
      "    build.extend(nov)\n",
      "    build.extend(dec)\n",
      "    return build\n",
      "\n",
      "    \n",
      "def leaptest(year):\n",
      "    \"\"\"\n",
      "    test if a given year is a leapyear\n",
      "    A leap year occurs on any year evenly divisible by 4, but not on a century unless it is divisible by 400.\n",
      "    in: int\n",
      "    out: boolean\n",
      "    \"\"\"\n",
      "    if year % 4 == 0:\n",
      "        if year % 100 == 0:\n",
      "            if year % 400 == 0:\n",
      "                return True\n",
      "            else:\n",
      "                return False\n",
      "        else:\n",
      "            return True\n",
      "    else:\n",
      "        return False\n",
      "\"\"\"\n",
      "#testing leapyear checker\n",
      "print leaptest(1800), leaptest(1801), leaptest(1995), leaptest(1996), leaptest(2000), leaptest(2004), leaptest(2100),\n",
      "\"\"\"\n",
      "\n",
      "def countSundays(startyear, endyear, firstday):\n",
      "    \"\"\"\n",
      "    count the sundays in a given range of years\n",
      "    makes a really giant array of dates for the entire range of years\n",
      "    masks to find only the first days of the month\n",
      "    counts the number of those that are sundays\n",
      "    requires the starting day of the starting year, firstday. 0 is sunday, 1 monday etc\n",
      "    in: int, int, int\n",
      "    out: int\n",
      "    \"\"\"\n",
      "    \n",
      "    liyears = []\n",
      "    for y in range(startyear,endyear):\n",
      "        liyears.extend(makeyear(leaptest(y)))\n",
      "    \n",
      "    #the first day of the month will always have value 1\n",
      "    aryears = np.array(liyears)\n",
      "    mask = (aryears == 1)\n",
      "    \n",
      "    count = 0     \n",
      "    for i in np.nonzero(mask)[0]:\n",
      "        #every 7th day is a sunday, but we have to make sure the zero points are the same\n",
      "        if ((i + firstday) % 7) == 0:\n",
      "            count += 1\n",
      "    return count\n",
      "\n",
      "#january 1, 1901 was a tuesday\n",
      "#call with 2001 to deal with exclusive right hand range\n",
      "print countSundays(1901,2001,2)"
     ],
     "language": "python",
     "metadata": {},
     "outputs": [
      {
       "output_type": "stream",
       "stream": "stdout",
       "text": [
        "171\n"
       ]
      }
     ],
     "prompt_number": 1
    },
    {
     "cell_type": "markdown",
     "metadata": {},
     "source": [
      "Answer is 171 Sundays"
     ]
    },
    {
     "cell_type": "code",
     "collapsed": false,
     "input": [],
     "language": "python",
     "metadata": {},
     "outputs": []
    }
   ],
   "metadata": {}
  }
 ]
}