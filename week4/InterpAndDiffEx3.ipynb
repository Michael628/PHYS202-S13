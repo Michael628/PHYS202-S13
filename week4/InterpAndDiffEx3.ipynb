{
 "metadata": {
  "name": "InterpAndDiffEx3"
 },
 "nbformat": 3,
 "nbformat_minor": 0,
 "worksheets": [
  {
   "cells": [
    {
     "cell_type": "heading",
     "level": 2,
     "metadata": {},
     "source": [
      "Interpolation and Numerical Differentiation, Exercises 3"
     ]
    },
    {
     "cell_type": "markdown",
     "metadata": {},
     "source": [
      "1. It is common to test functions where you know the answer. Let\u2019s test the dipolePotential() function that you previously wrote and saved in a python script to see that the function is zero along the bisector between the charges. First, set up a grid and evaluate the function."
     ]
    },
    {
     "cell_type": "markdown",
     "metadata": {},
     "source": [
      "(a) Use a boolean mask to locate the positions where y=0."
     ]
    },
    {
     "cell_type": "code",
     "collapsed": false,
     "input": [
      "from Electrostatics import *\n",
      "x,y = meshgrid(arange(-5,5,0.5),arange(-5,5,0.5))\n",
      "Vdipole = dipolePotential(x,y,1e-9,2.,0);\n",
      "contour(x,y,Vdipole,cmap=cm.coolwarm)\n",
      "show()"
     ],
     "language": "python",
     "metadata": {},
     "outputs": [
      {
       "output_type": "display_data",
       "png": "[encoded data removed]",
       "text": [
        "<matplotlib.figure.Figure at 0x106fdae10>"
       ]
      }
     ],
     "prompt_number": 47
    },
    {
     "cell_type": "markdown",
     "metadata": {},
     "source": [
      "(b) Check that Vdipole for these locations is zero. i.e. print the value of Vdipole for these\n",
      "locations using your mask from part (a)."
     ]
    },
    {
     "cell_type": "code",
     "collapsed": false,
     "input": [
      "mask = (Vdipole == 0)\n",
      "for i, el in enumerate(x[mask]):\n",
      "    print el, y[mask][i]"
     ],
     "language": "python",
     "metadata": {},
     "outputs": [
      {
       "output_type": "stream",
       "stream": "stdout",
       "text": [
        "0.0 -5.0\n",
        "0.0 -4.5\n",
        "0.0 -4.0\n",
        "0.0 -3.5\n",
        "0.0 -3.0\n",
        "0.0 -2.5\n",
        "0.0 -1.5\n",
        "0.0 -1.0\n",
        "0.0 -0.5\n",
        "0.0 0.0\n",
        "0.0 0.5\n",
        "0.0 1.0\n",
        "0.0 1.5\n",
        "0.0 2.5\n",
        "0.0 3.0\n",
        "0.0 3.5\n",
        "0.0 4.0\n",
        "0.0 4.5\n"
       ]
      }
     ],
     "prompt_number": 71
    },
    {
     "cell_type": "markdown",
     "metadata": {},
     "source": [
      "All the zero values lie along the Y axis, which is exactly where they should be."
     ]
    },
    {
     "cell_type": "markdown",
     "metadata": {},
     "source": [
      "2. Thermistors are electrical devices that measure temperature. They are made out of a material whose resistance changes very predictably with temperature. In the lab we measure the resistance of the thermistor and then compute the temperature from the en- gineering data that the manufacturer sends with the devices. The table below is data for a set of thermistors used in Q-lab."
     ]
    },
    {
     "cell_type": "code",
     "collapsed": false,
     "input": [
      "from scipy.interpolate import interp1d\n",
      "\n",
      "data = loadtxt(\"resist.txt\",float, delimiter = ',')\n",
      "T = data[:,0]\n",
      "r = data[:,1]\n",
      "\n",
      "#this works nicely, r as a function of T\n",
      "fig = figure()\n",
      "ax = subplot(2,1,1)\n",
      "plot(T,r)\n",
      "plot(T, interp1d(T,r)(T))\n",
      "\n",
      "#now in reverse    \n",
      "ax = subplot(2,1,2)\n",
      "plot(r[::-1],T[::-1])\n",
      "plot(r[::-1], interp1d(r[::-1],T[::-1])(r[::-1]))\n",
      "show()\n",
      "\n",
      "\n",
      "def Temp(resistance):\n",
      "    terp = interp1d(r[::-1],T[::-1])\n",
      "    return terp(resistance)\n",
      "print Temp(1.5)"
     ],
     "language": "python",
     "metadata": {},
     "outputs": [
      {
       "output_type": "display_data",
       "png": "[encoded data removed]",
       "text": [
        "<matplotlib.figure.Figure at 0x108d17e90>"
       ]
      },
      {
       "output_type": "stream",
       "stream": "stdout",
       "text": [
        "38.84\n"
       ]
      }
     ],
     "prompt_number": 41
    },
    {
     "cell_type": "markdown",
     "metadata": {},
     "source": [
      "3. Let\u2019s explore the accuracy of numerical differentiation.\n"
     ]
    },
    {
     "cell_type": "markdown",
     "metadata": {},
     "source": [
      "1a: finite difference function"
     ]
    },
    {
     "cell_type": "code",
     "collapsed": false,
     "input": [],
     "language": "python",
     "metadata": {},
     "outputs": []
    }
   ],
   "metadata": {}
  }
 ]
}