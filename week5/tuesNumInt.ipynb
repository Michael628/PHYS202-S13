{
 "metadata": {
  "name": "tuesNumInt"
 },
 "nbformat": 3,
 "nbformat_minor": 0,
 "worksheets": [
  {
   "cells": [
    {
     "cell_type": "markdown",
     "metadata": {},
     "source": [
      "Example 1"
     ]
    },
    {
     "cell_type": "code",
     "collapsed": false,
     "input": [
      "f = lambda x: x**4 -2*x + 1\n",
      "    \n",
      "N = 10\n",
      "a = 0.\n",
      "b = 2.\n",
      "h = (b-a)/N\n",
      "s = .5*f(a) + .5*f(b)\n",
      "for k in range(1,N):\n",
      "    s  += f(a+k*h)\n",
      "print \"N =\", N,\":\",h*s \n",
      "    "
     ],
     "language": "python",
     "metadata": {},
     "outputs": [
      {
       "output_type": "stream",
       "stream": "stdout",
       "text": [
        "N = 10 : 4.50656\n"
       ]
      }
     ],
     "prompt_number": 31
    },
    {
     "cell_type": "markdown",
     "metadata": {},
     "source": [
      "Exercise 1:\n",
      "----\n",
      "What are the results for N = 100 and N = 1000?\n"
     ]
    },
    {
     "cell_type": "code",
     "collapsed": false,
     "input": [
      "N = 100\n",
      "a = 0.\n",
      "b = 2.\n",
      "h = (b-a)/N\n",
      "s = .5*f(a) + .5*f(b)\n",
      "for k in range(1,N):\n",
      "    s  += f(a+k*h)\n",
      "print \"N =\", N,\":\",h*s  \n",
      "\n",
      "N = 1000\n",
      "a = 0.\n",
      "b = 2.\n",
      "h = (b-a)/N\n",
      "s = .5*f(a) + .5*f(b)\n",
      "for k in range(1,N):\n",
      "    s  += f(a+k*h)\n",
      "\n",
      "print \"N =\", N,\":\",h*s "
     ],
     "language": "python",
     "metadata": {},
     "outputs": [
      {
       "output_type": "stream",
       "stream": "stdout",
       "text": [
        "N = 100 : 4.401066656\n",
        "N = 1000 : 4.40001066667\n"
       ]
      }
     ],
     "prompt_number": 32
    },
    {
     "cell_type": "markdown",
     "metadata": {},
     "source": [
      "Exercise 2\n",
      "----\n"
     ]
    },
    {
     "cell_type": "code",
     "collapsed": false,
     "input": [
      "f = lambda x: x**4 -2*x + 1\n",
      "\n",
      "N = 10\n",
      "a = 0.\n",
      "b = 2.\n",
      "h = (b-a)/N\n",
      "\n",
      "s = f(a) + f(b)\n",
      "for k in range(1,N/2 +1,1):\n",
      "    s += 4*f(a + (2*k - 1)*h)\n",
      "for k in range(1, N/2,1):\n",
      "    s += 2*f(a+2*k*h)\n",
      "s *= (h/3.)\n",
      "\n",
      "print \"N =\", N,\":\", s "
     ],
     "language": "python",
     "metadata": {},
     "outputs": [
      {
       "output_type": "stream",
       "stream": "stdout",
       "text": [
        "N = 10 : 4.40042666667\n"
       ]
      }
     ],
     "prompt_number": 33
    },
    {
     "cell_type": "markdown",
     "metadata": {},
     "source": [
      "Percent error is the difference divided by the known quantity"
     ]
    },
    {
     "cell_type": "code",
     "collapsed": false,
     "input": [
      "print 100*(s-4.4)/4.4,\"%\""
     ],
     "language": "python",
     "metadata": {},
     "outputs": [
      {
       "output_type": "stream",
       "stream": "stdout",
       "text": [
        "0.00969696969697 %\n"
       ]
      }
     ],
     "prompt_number": 34
    },
    {
     "cell_type": "code",
     "collapsed": false,
     "input": [
      "N = 100\n",
      "a = 0.\n",
      "b = 2.\n",
      "h = (b-a)/N\n",
      "\n",
      "s = f(a) + f(b)\n",
      "for k in range(1,N/2 +1,1):\n",
      "    s += 4*f(a + (2*k - 1)*h)\n",
      "for k in range(1, N/2,1):\n",
      "    s += 2*f(a+2*k*h)\n",
      "s *= (h/3.)\n",
      "\n",
      "print \"N =\", N,\":\", s"
     ],
     "language": "python",
     "metadata": {},
     "outputs": [
      {
       "output_type": "stream",
       "stream": "stdout",
       "text": [
        "N = 100 : 4.40000004267\n"
       ]
      }
     ],
     "prompt_number": 35
    },
    {
     "cell_type": "code",
     "collapsed": false,
     "input": [
      "N = 1000\n",
      "a = 0.\n",
      "b = 2.\n",
      "h = (b-a)/N\n",
      "\n",
      "s = f(a) + f(b)\n",
      "for k in range(1,N/2 +1,1):\n",
      "    s += 4*f(a + (2*k - 1)*h)\n",
      "for k in range(1, N/2,1):\n",
      "    s += 2*f(a+2*k*h)\n",
      "s *= (h/3.)\n",
      "\n",
      "print \"N =\", N,\":\", s"
     ],
     "language": "python",
     "metadata": {},
     "outputs": [
      {
       "output_type": "stream",
       "stream": "stdout",
       "text": [
        "N = 1000 : 4.4\n"
       ]
      }
     ],
     "prompt_number": 36
    },
    {
     "cell_type": "markdown",
     "metadata": {},
     "source": [
      "Trapezoidal Rule:\n",
      "\n",
      "    N = 10 : 4.50656\n",
      "    N = 100 : 4.401066656\n",
      "    N = 1000 : 4.40001066667\n",
      "\n",
      "Simpson's Rule:\n",
      "\n",
      "    N = 10 : 4.40042666667\n",
      "    N = 10 : 4.40042666667\n",
      "    N = 1000 : 4.4\n",
      "\n",
      "Simpson's rule far more accurate, though with enough slices both are excellent approximations\n"
     ]
    },
    {
     "cell_type": "heading",
     "level": 2,
     "metadata": {},
     "source": [
      "Scipy Integration"
     ]
    },
    {
     "cell_type": "markdown",
     "metadata": {},
     "source": [
      "$I = \\displaystyle \\int_0^{4.5} J_{2.5}(x)dx$\n"
     ]
    },
    {
     "cell_type": "code",
     "collapsed": false,
     "input": [
      "import scipy.integrate as integrate\n",
      "import scipy as scipy\n",
      "from scipy.special import jv\n",
      "result = integrate.quad(lambda x: scipy.special.jv(2.5,x), 0, 4.5)\n",
      "print result\n",
      "\n"
     ],
     "language": "python",
     "metadata": {},
     "outputs": [
      {
       "output_type": "stream",
       "stream": "stdout",
       "text": [
        "(1.1178179380783249, 7.866317182537226e-09)\n"
       ]
      }
     ],
     "prompt_number": 42
    },
    {
     "cell_type": "code",
     "collapsed": false,
     "input": [
      "#this is impreceise\n",
      "theta = linspace(0,pi,.3)\n",
      "Iwrong = integrate.trapz(theta,cos(theta))\n",
      "print Iwrong\n",
      "\n",
      "#well that was easy"
     ],
     "language": "python",
     "metadata": {},
     "outputs": [
      {
       "output_type": "stream",
       "stream": "stdout",
       "text": [
        "0.0\n"
       ]
      }
     ],
     "prompt_number": 49
    }
   ],
   "metadata": {}
  }
 ]
}