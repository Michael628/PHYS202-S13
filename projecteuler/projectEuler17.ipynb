{
 "metadata": {
  "name": "projectEuler17"
 },
 "nbformat": 3,
 "nbformat_minor": 0,
 "worksheets": [
  {
   "cells": [
    {
     "cell_type": "heading",
     "level": 4,
     "metadata": {},
     "source": [
      "Project Euler Problem 17"
     ]
    },
    {
     "cell_type": "heading",
     "level": 4,
     "metadata": {},
     "source": [
      "Number Letter Counts"
     ]
    },
    {
     "cell_type": "markdown",
     "metadata": {},
     "source": [
      "\n",
      "\n",
      "If the numbers 1 to 5 are written out in words: one, two, three, four, five, then there are 3 + 3 + 5 + 4 + 4 = 19 letters used in total.\n",
      "\n",
      "If all the numbers from 1 to 1000 (one thousand) inclusive were written out in words, how many letters would be used?\n",
      "\n",
      "NOTE: Do not count spaces or hyphens. For example, 342 (three hundred and forty-two) contains 23 letters and 115 (one hundred and fifteen) contains 20 letters. The use of \"and\" when writing out numbers is in compliance with British usage.\n"
     ]
    },
    {
     "cell_type": "code",
     "collapsed": false,
     "input": [
      "#build mappings to convert from digits to character counts\n",
      "\n",
      "#one two three four five six seven eight nine ten eleven twelve thirteen fourteen fifteen sixteen seventeen eighteen nineteen\n",
      "mapping = {0:0, 1:3, 2:3, 3:5, 4:4, 5:4, 6:3, 7:5, 8:5, 9:4, 10:3, 11:6, 12:6, 13:8, 14:8, 15:7, 16:7, 17:9, 18:8, 19:8}\n",
      "# ten twenty thirty forty fifty sixty seventy eighty ninety \n",
      "mapping10s = {0:0, 1:3, 2:6, 3:6, 4:5, 5:5, 6:5, 7:7, 8:6, 9:6}\n",
      "\n",
      "def countLet(num):\n",
      "    \"\"\"\n",
      "    Counts the number of letters used to make a number from 1-1000. Spaces and hyphens don't count. Format used is\n",
      "    'three hundred and sixty five'\n",
      "    \"\"\"\n",
      "    le = len(str(num))\n",
      "    dig = str(num)\n",
      "    \n",
      "    #code is only good for 3 digits. hardwire this edge case.\n",
      "    if num == 1000:\n",
      "        return 11\n",
      "    \n",
      "    if le == 0:\n",
      "        print \"error zero length\"\n",
      "        \n",
      "    #**bottom recursion case: only a single digit number\n",
      "    if le == 1:\n",
      "        return mapping[num]\n",
      "\n",
      "    if le == 2:\n",
      "        #Special handling for teenagers\n",
      "        if (num < 20):\n",
      "            return mapping[int(dig)]\n",
      "        #return the first half (twenty, fifty, etc) + the recursive call on the last digit\n",
      "        else:\n",
      "            return mapping10s[int(dig[0])] + countLet(int(dig[-1]))\n",
      "    \n",
      "    if le == 3:\n",
      "        #if a number is x00, eg 100 or 700, there is no 'and' so it is the first digit's count plus 7 chars from 'hundred'\n",
      "        #otherwise, the 'and' adds 3 chars for 10 total. \n",
      "        #in either case, recursively call on the last two digits.\n",
      "        if (num%100) == 0:\n",
      "            return mapping[int(dig[0])] + 7 + countLet(int(dig[1:])) \n",
      "        else:\n",
      "            return mapping[int(dig[0])] + 10 + countLet(int(dig[1:]))\n",
      "                                           \n",
      "    if le > 3:\n",
      "        print \"error, number too large\"\n",
      "        return 0\n",
      "    \n",
      "#print countLet(30)    \n",
      "#print countLet(100)\n",
      "#print countLet(800)    \n",
      "#print countLet(801)\n",
      "#check that the \"and\" in hundreds is correctly working. these two should be different by 3\n",
      "#print countLet(855)\n",
      "#print countLet(800) + countLet(55)\n",
      "\n",
      "tot = 0\n",
      "for x in range(6):\n",
      "    tot += countLet(x)\n",
      "print \"Project Euler tests:\"\n",
      "print \"total in range 5 is:\", tot\n",
      "print\n",
      "\n",
      "print \"letters in 342:\", countLet(342)\n",
      "print \"letters in 115:\", countLet(115)"
     ],
     "language": "python",
     "metadata": {},
     "outputs": [
      {
       "output_type": "stream",
       "stream": "stdout",
       "text": [
        "Project Euler tests:\n",
        "total in range 5 is: 19\n",
        "\n",
        "letters in 342: 23\n",
        "letters in 115: 20\n"
       ]
      }
     ],
     "prompt_number": 1
    },
    {
     "cell_type": "code",
     "collapsed": false,
     "input": [
      "tot = 0\n",
      "for x in range(1001):\n",
      "    tot += countLet(x)\n",
      "print \"total in range 1000 is:\", tot"
     ],
     "language": "python",
     "metadata": {},
     "outputs": [
      {
       "output_type": "stream",
       "stream": "stdout",
       "text": [
        "total in range 1000 is: 21124\n"
       ]
      }
     ],
     "prompt_number": 2
    }
   ],
   "metadata": {}
  }
 ]
}