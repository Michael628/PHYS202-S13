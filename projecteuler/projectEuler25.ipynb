{
 "metadata": {
  "name": "projectEuler25"
 },
 "nbformat": 3,
 "nbformat_minor": 0,
 "worksheets": [
  {
   "cells": [
    {
     "cell_type": "heading",
     "level": 4,
     "metadata": {},
     "source": [
      "Project Euler 25"
     ]
    },
    {
     "cell_type": "markdown",
     "metadata": {},
     "source": [
      "The Fibonacci sequence is defined by the recurrence relation:\n",
      "\n",
      "$ F_n = F_{n\u22121} + F_{n\u22122},\\ $ where $\\ \\ F_1 = 1 \\ $ and $ \\ F_2 = 1. $\n",
      "\n",
      "Hence the first 12 terms will be:\n",
      "\n",
      "    F1 = 1\n",
      "    F2 = 1\n",
      "    F3 = 2\n",
      "    F4 = 3\n",
      "    F5 = 5\n",
      "    F6 = 8\n",
      "    F7 = 13\n",
      "    F8 = 21\n",
      "    F9 = 34\n",
      "    F10 = 55\n",
      "    F11 = 89\n",
      "    F12 = 144\n",
      "\n",
      "The 12th term, $F_{12}$, is the first term to contain three digits.\n",
      "\n",
      "What is the first term in the Fibonacci sequence to contain 1000 digits?\n"
     ]
    },
    {
     "cell_type": "heading",
     "level": 4,
     "metadata": {},
     "source": [
      "Solution"
     ]
    },
    {
     "cell_type": "markdown",
     "metadata": {},
     "source": [
      "The number of digits in a number is given by its base-10 log + 1\n",
      "\n",
      "For large n,  $f_n = \\displaystyle \\frac {\\phi^n}{\\sqrt 5} $, where $\\phi$ is the golden ratio\n",
      "\n",
      "Take the base-10 log of both sides and rearrange to get $\\log_{10} (f_n) = nlog_{10} (\\phi) - \\log_{10}  (\\sqrt 5) $"
     ]
    },
    {
     "cell_type": "code",
     "collapsed": false,
     "input": [
      "phi = (1. + 5**.5) / 2.\n",
      "\n",
      "#project euler test case\n",
      "for x in np.arange(1,10000):\n",
      "    if int(x*np.log10(phi) - np.log10(5**.5)) + 1 == 3:\n",
      "        print \"term\", x\n",
      "        break\n",
      "\n",
      "for x in np.arange(1,10000):\n",
      "    if int(x*np.log10(phi) - np.log10(5**.5)) + 1 == 1000:\n",
      "        print \"term\", x\n",
      "        break\n"
     ],
     "language": "python",
     "metadata": {},
     "outputs": [
      {
       "output_type": "stream",
       "stream": "stdout",
       "text": [
        "term 12\n",
        "term"
       ]
      },
      {
       "output_type": "stream",
       "stream": "stdout",
       "text": [
        " 4782\n"
       ]
      }
     ],
     "prompt_number": 45
    },
    {
     "cell_type": "code",
     "collapsed": false,
     "input": [],
     "language": "python",
     "metadata": {},
     "outputs": [],
     "prompt_number": 44
    }
   ],
   "metadata": {}
  }
 ]
}