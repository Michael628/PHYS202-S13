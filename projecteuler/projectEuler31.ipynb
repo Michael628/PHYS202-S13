{
 "metadata": {
  "name": "projectEuler31"
 },
 "nbformat": 3,
 "nbformat_minor": 0,
 "worksheets": [
  {
   "cells": [
    {
     "cell_type": "heading",
     "level": 4,
     "metadata": {},
     "source": [
      "Project Euler Problem 31"
     ]
    },
    {
     "cell_type": "heading",
     "level": 4,
     "metadata": {},
     "source": [
      "Coin Sums"
     ]
    },
    {
     "cell_type": "markdown",
     "metadata": {},
     "source": [
      "In England the currency is made up of pound, \u00a3, and pence, p, and there are eight coins in general circulation:\n",
      "\n",
      "1p, 2p, 5p, 10p, 20p, 50p, \u00a31 (100p) and \u00a32 (200p).\n",
      "\n",
      "It is possible to make \u00a32 in the following way:\n",
      "\n",
      "1\u00d7\u00a31 + 1\u00d750p + 2\u00d720p + 1\u00d75p + 1\u00d72p + 3\u00d71p\n",
      "\n",
      "How many different ways can \u00a32 be made using any number of coins?\n"
     ]
    },
    {
     "cell_type": "code",
     "collapsed": false,
     "input": [
      "final = 200\n",
      "statecount = 0\n",
      "\n",
      "#ignore 2-pound coins for now\n",
      "#can have 0, 1, or 2 1-pound coins\n",
      "#then can have 0-5 50-p coins, etc\n",
      "for a in range(final/100 + 1):\n",
      "    #adjusting the current amount saves a large amount of processing time\n",
      "    #since having 3 50-p coins is only possible if there are 0 1-pound coins.\n",
      "    current = 100*a\n",
      "    for b in range(0, (final-current)/50 + 1):\n",
      "        current = 100*a + 50*b\n",
      "        for c in range(0, (final-current)/20 + 1):\n",
      "            current = 100*a + 50*b + 20*c\n",
      "            for d in range(0, (final-current)/10 + 1):\n",
      "                current = 100*a + 50*b + 20*c + 10*d\n",
      "                for e in range(0, (final-current)/5 + 1):\n",
      "                    current = 100*a + 50*b + 20*c + 10*d + 5*e\n",
      "                    for f in range(0, (final-current)/2 + 1):\n",
      "                        #can add only one amount of pennies to make it equal final\n",
      "                        current = 100*a + 50*b + 20*c + 10*d + 5*e + 2*f\n",
      "                        statecount += 1\n",
      "                        \n",
      "                        #error checking\n",
      "                        ##printing out every state is pretty slow in ipython but tolerable directly.\n",
      "                        #print a,b,c,d,e,f,final-current\n",
      "                        if a*100 + b*50 + c*20 + d*10 + e*5 + f*2 + final-current != 200:\n",
      "                            print \"Error, invalid sum\"\n",
      "                        \n",
      "#add in the case of a single 2-pound coin\n",
      "print statecount + 1"
     ],
     "language": "python",
     "metadata": {},
     "outputs": [
      {
       "output_type": "stream",
       "stream": "stdout",
       "text": [
        "73682\n"
       ]
      }
     ],
     "prompt_number": 3
    },
    {
     "cell_type": "code",
     "collapsed": false,
     "input": [],
     "language": "python",
     "metadata": {},
     "outputs": []
    }
   ],
   "metadata": {}
  }
 ]
}