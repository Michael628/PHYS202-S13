{
 "metadata": {
  "name": "projectEuler20"
 },
 "nbformat": 3,
 "nbformat_minor": 0,
 "worksheets": [
  {
   "cells": [
    {
     "cell_type": "markdown",
     "metadata": {},
     "source": [
      "Project Euler 20\n",
      "-----\n",
      "Factorial Digit Sum\n",
      "----\n",
      "$n!$ means $n \\times (n-1)\\ \\times\\ ...\\ \\times 3 \\times 2 \\times 1 $\n",
      "\n",
      "For example, $10! = 10 \\times 9 \\times\\ ...\\ \\times 3 \\times 2 \\times 1 = 3628800 $ ,\n",
      "and the sum of the digits in the number $10!$ is $3+6+2+8+8+0+0=27$\n",
      "\n",
      "Find the sum of the digits in the number $100!$"
     ]
    },
    {
     "cell_type": "code",
     "collapsed": false,
     "input": [
      "from math import factorial\n",
      "\n",
      "def factdigsum(n):\n",
      "    \"\"\"\n",
      "    adds up all the digits of (n factorial)\n",
      "    \"\"\"\n",
      "    digsum = 0\n",
      "    for char in str(factorial(n)):\n",
      "        digsum += int(char)\n",
      "    return digsum\n",
      "\n",
      "#project euler test case\n",
      "print factdigsum(10)\n",
      "print\n",
      "print \"The sum of the digits of 100! is:\"\n",
      "print factdigsum(100)"
     ],
     "language": "python",
     "metadata": {},
     "outputs": [
      {
       "output_type": "stream",
       "stream": "stdout",
       "text": [
        "27\n",
        "\n",
        "The sum of the digits of 100! is:\n",
        "648\n"
       ]
      }
     ],
     "prompt_number": 9
    },
    {
     "cell_type": "code",
     "collapsed": false,
     "input": [],
     "language": "python",
     "metadata": {},
     "outputs": []
    }
   ],
   "metadata": {}
  }
 ]
}