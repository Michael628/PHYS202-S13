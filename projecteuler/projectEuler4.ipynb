{
 "metadata": {
  "name": "projectEuler4"
 },
 "nbformat": 3,
 "nbformat_minor": 0,
 "worksheets": [
  {
   "cells": [
    {
     "cell_type": "markdown",
     "metadata": {},
     "source": [
      "Problem 4: Largest Palindrome Product\n",
      "---\n"
     ]
    },
    {
     "cell_type": "markdown",
     "metadata": {},
     "source": [
      "\n",
      "\n",
      "A palindromic number reads the same both ways. The largest palindrome made from the product of two 2-digit numbers is 9009 = 91 \u00d7 99.\n",
      "\n",
      "Find the largest palindrome made from the product of two 3-digit numbers.\n"
     ]
    },
    {
     "cell_type": "code",
     "collapsed": false,
     "input": [
      "#4 May 13\n",
      "\n",
      "def ispalin(n):\n",
      "    \"\"\"\n",
      "    checks if a string or integer is a palindrome\n",
      "    in: string or integer\n",
      "    out: boolean\n",
      "    \"\"\"\n",
      "    \n",
      "    #leading zeros give problems with using ints, so switch everything to strings\n",
      "    if type(n) == int:\n",
      "        n = str(n)\n",
      "    st = n\n",
      "    le = len(st)\n",
      "    #check the edges\n",
      "    if st[0] == st[-1]:\n",
      "        #recursive call on the substring without the edges\n",
      "        if (le > 2):\n",
      "            return ispalin(st[1:-1])\n",
      "        #bottom recursion case\n",
      "        elif (le == 2) or (le == 1):\n",
      "            if st[0] == st[-1]:\n",
      "                return True\n",
      "            else:\n",
      "                return False\n",
      "        elif le == 0:\n",
      "            print \"error: zero length\"\n",
      "            return False\n",
      "    #edges didn't match\n",
      "    else:\n",
      "        return False\n",
      "    \n",
      "#palindrome function testing\n",
      "#print ispalin(303), ispalin(1011), ispalin(1), ispalin(223), ispalin(8778), ispalin(22)\n",
      "#print ispalin(\"efe\"), ispalin(\"eee\"), ispalin(\"palin\"), ispalin(\"qwertytrewq\"), ispalin(\"e3d3e\")\n",
      "\n",
      "def maxpalin(u,v):\n",
      "    \"\"\"\n",
      "    checks if the product of every number up to u and v is a palindrome, then returns the largest\n",
      "    product along with the u and v values that form it.\n",
      "    in: int, int\n",
      "    out: tuple of maximum, u max, v max\n",
      "    \"\"\"\n",
      "    xmax = 0\n",
      "    ymax = 0\n",
      "    maxi = 0\n",
      "    for x in range(u):\n",
      "        for y in range(v):\n",
      "            if ispalin(x*y) and (x*y > maxi):\n",
      "                maxi = x*y\n",
      "                xmax = x\n",
      "                ymax = y                \n",
      "    return maxi, xmax, ymax"
     ],
     "language": "python",
     "metadata": {},
     "outputs": [],
     "prompt_number": 19
    },
    {
     "cell_type": "code",
     "collapsed": false,
     "input": [
      "#project euler test case\n",
      "m,xm, ym = maxpalin(100,100)\n",
      "print m, \"=\", xm, \"*\", ym"
     ],
     "language": "python",
     "metadata": {},
     "outputs": [
      {
       "output_type": "stream",
       "stream": "stdout",
       "text": [
        "9009 = 91 * 99\n"
       ]
      }
     ],
     "prompt_number": 20
    },
    {
     "cell_type": "markdown",
     "metadata": {},
     "source": [
      "Solution\n",
      "----"
     ]
    },
    {
     "cell_type": "code",
     "collapsed": false,
     "input": [
      "m,xm, ym = maxpalin(1000,1000)\n",
      "print m, \"=\", xm, \"*\", ym"
     ],
     "language": "python",
     "metadata": {},
     "outputs": [
      {
       "output_type": "stream",
       "stream": "stdout",
       "text": [
        "906609 = 913 * 993\n"
       ]
      }
     ],
     "prompt_number": 22
    },
    {
     "cell_type": "code",
     "collapsed": false,
     "input": [],
     "language": "python",
     "metadata": {},
     "outputs": []
    }
   ],
   "metadata": {}
  }
 ]
}