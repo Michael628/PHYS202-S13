{
 "metadata": {
  "name": "projectEuler19"
 },
 "nbformat": 3,
 "nbformat_minor": 0,
 "worksheets": [
  {
   "cells": [
    {
     "cell_type": "markdown",
     "metadata": {},
     "source": [
      "Project Euler #19\n",
      "======\n",
      "\n",
      "$ 2^{15} = 32768\\ \\ $and the sum of its digits is 3 + 2 + 7 + 6 + 8 = 26.\n",
      "\n",
      "What is the sum of the digits of the number $2^{1000}\\ $?"
     ]
    },
    {
     "cell_type": "code",
     "collapsed": false,
     "input": [
      "def sumlen(num):\n",
      "    tot = 0\n",
      "    #convert the number to a string to loop through\n",
      "    for char in str(num):\n",
      "        #then convert the characters back to numbers to add them up\n",
      "        tot += int(char)\n",
      "    return tot\n",
      "#provided test case\n",
      "print \"Sum of digits of 2**15 is\", sumlen(2**15)\n",
      "print \"Sum of digits of 2**1000 is\", sumlen(2**1000)"
     ],
     "language": "python",
     "metadata": {},
     "outputs": [
      {
       "output_type": "stream",
       "stream": "stdout",
       "text": [
        "Sum of digits of 2**15 is 26\n",
        "Sum of digits of 2**1000 is 1366\n"
       ]
      }
     ],
     "prompt_number": 10
    },
    {
     "cell_type": "code",
     "collapsed": false,
     "input": [],
     "language": "python",
     "metadata": {},
     "outputs": [],
     "prompt_number": 2
    }
   ],
   "metadata": {}
  }
 ]
}
