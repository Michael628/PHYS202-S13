{
 "metadata": {
  "name": "NumpyEx1"
 },
 "nbformat": 3,
 "nbformat_minor": 0,
 "worksheets": [
  {
   "cells": [
    {
     "cell_type": "markdown",
     "metadata": {},
     "source": [
      "Create a new notebook called \\NumpyEx1\" to complete the following exercises. Use a\n",
      "markdown cell to indicate the start of each new question or part of a question. Also\n",
      "include comments, explanations, and answers to any questions, using markdown cells. Be\n",
      "sure to save your work to github when you are done and/or leave for the day."
     ]
    },
    {
     "cell_type": "code",
     "collapsed": false,
     "input": [
      "import numpy as np\n",
      "a = np.ones([4,4],dtype=int)\n",
      "a[2,3] = 2\n",
      "a[3,1] = 6\n",
      "print a\n",
      "print\n",
      "\n",
      "\n",
      "b = np.diag(np.arange(2.,7.), k=-1)\n",
      "print b"
     ],
     "language": "python",
     "metadata": {},
     "outputs": [
      {
       "output_type": "stream",
       "stream": "stdout",
       "text": [
        "[[1 1 1 1]\n",
        " [1 1 1 1]\n",
        " [1 1 1 2]\n",
        " [1 6 1 1]]\n",
        "\n",
        "[[ 0.  0.  0.  0.  0.  0.]\n",
        " [ 2.  0.  0.  0.  0.  0.]\n",
        " [ 0.  3.  0.  0.  0.  0.]\n",
        " [ 0.  0.  4.  0.  0.  0.]\n",
        " [ 0.  0.  0.  5.  0.  0.]\n",
        " [ 0.  0.  0.  0.  6.  0.]]\n"
       ]
      }
     ],
     "prompt_number": 26
    },
    {
     "cell_type": "code",
     "collapsed": false,
     "input": [
      "    "
     ],
     "language": "python",
     "metadata": {},
     "outputs": []
    }
   ],
   "metadata": {}
  }
 ]
}