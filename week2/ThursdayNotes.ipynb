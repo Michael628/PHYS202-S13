{
 "metadata": {
  "name": "ThursdayNotes"
 },
 "nbformat": 3,
 "nbformat_minor": 0,
 "worksheets": [
  {
   "cells": [
    {
     "cell_type": "markdown",
     "metadata": {},
     "source": [
      "Thursday Notes\n",
      "11 Apr"
     ]
    },
    {
     "cell_type": "code",
     "collapsed": false,
     "input": [
      "import numpy as np"
     ],
     "language": "python",
     "metadata": {},
     "outputs": [],
     "prompt_number": 2
    },
    {
     "cell_type": "code",
     "collapsed": false,
     "input": [
      "#high excluded\n",
      "b = np.arange(6)\n",
      "print b\n"
     ],
     "language": "python",
     "metadata": {},
     "outputs": [
      {
       "output_type": "stream",
       "stream": "stdout",
       "text": [
        "[0 1 2 3 4 5]\n"
       ]
      }
     ],
     "prompt_number": 11
    },
    {
     "cell_type": "code",
     "collapsed": false,
     "input": [
      "#high included\n",
      "c = np.linspace(0,5,10)\n",
      "print c"
     ],
     "language": "python",
     "metadata": {},
     "outputs": [
      {
       "output_type": "stream",
       "stream": "stdout",
       "text": [
        "[ 0.          0.55555556  1.11111111  1.66666667  2.22222222  2.77777778\n",
        "  3.33333333  3.88888889  4.44444444  5.        ]\n"
       ]
      }
     ],
     "prompt_number": 14
    },
    {
     "cell_type": "code",
     "collapsed": false,
     "input": [
      "a = np.identity(3)\n",
      "print a"
     ],
     "language": "python",
     "metadata": {},
     "outputs": [
      {
       "output_type": "stream",
       "stream": "stdout",
       "text": [
        "[[ 1.  0.  0.]\n",
        " [ 0.  1.  0.]\n",
        " [ 0.  0.  1.]]\n"
       ]
      }
     ],
     "prompt_number": 18
    },
    {
     "cell_type": "code",
     "collapsed": false,
     "input": [
      "d = np.diag(np.array([1,2,3,4]))\n",
      "d = np.diag(np.linspace(0,3,6))\n",
      "print d"
     ],
     "language": "python",
     "metadata": {},
     "outputs": [
      {
       "output_type": "stream",
       "stream": "stdout",
       "text": [
        "[[ 0.   0.   0.   0.   0.   0. ]\n",
        " [ 0.   0.6  0.   0.   0.   0. ]\n",
        " [ 0.   0.   1.2  0.   0.   0. ]\n",
        " [ 0.   0.   0.   1.8  0.   0. ]\n",
        " [ 0.   0.   0.   0.   2.4  0. ]\n",
        " [ 0.   0.   0.   0.   0.   3. ]]\n"
       ]
      }
     ],
     "prompt_number": 25
    },
    {
     "cell_type": "code",
     "collapsed": false,
     "input": [
      "a = np.random.rand(4)\n",
      "print a\n",
      "\n",
      "#gaussian distrubed randoms\n",
      "gauss = np.random.randn(8)\n",
      "print gauss\n",
      "#help(randn)\n",
      "np.random.seed(244)"
     ],
     "language": "python",
     "metadata": {},
     "outputs": [
      {
       "output_type": "stream",
       "stream": "stdout",
       "text": [
        "[ 0.15292088  0.61178737  0.90056166  0.48373413]\n",
        "[-1.02503046  1.20975763  0.30461258 -2.35954112  0.31945276  0.89427581\n",
        "  0.35410152  0.7981671 ]\n"
       ]
      }
     ],
     "prompt_number": 67
    },
    {
     "cell_type": "markdown",
     "metadata": {},
     "source": [
      "what types of arrays can numpy handle?"
     ]
    },
    {
     "cell_type": "code",
     "collapsed": false,
     "input": [
      "a = np.array([1,2,3],dtype=float)\n",
      "a = np.array(range(3),dtype=float)\n",
      "a.dtype\n",
      "print a"
     ],
     "language": "python",
     "metadata": {},
     "outputs": [
      {
       "output_type": "stream",
       "stream": "stdout",
       "text": [
        "[ 0.  1.  2.]\n"
       ]
      }
     ],
     "prompt_number": 76
    },
    {
     "cell_type": "code",
     "collapsed": false,
     "input": [
      "#navigate n dim array\n",
      "a = np.diag(range(3))\n",
      "print a[2,2]"
     ],
     "language": "python",
     "metadata": {},
     "outputs": [
      {
       "output_type": "stream",
       "stream": "stdout",
       "text": [
        "2\n"
       ]
      }
     ],
     "prompt_number": 79
    },
    {
     "cell_type": "code",
     "collapsed": false,
     "input": [
      "a = np.arange(20)\n",
      "print a[1::]"
     ],
     "language": "python",
     "metadata": {},
     "outputs": [
      {
       "output_type": "stream",
       "stream": "stdout",
       "text": [
        "[ 1  2  3  4  5  6  7  8  9 10 11 12 13 14 15 16 17 18 19]\n"
       ]
      }
     ],
     "prompt_number": 95
    },
    {
     "cell_type": "markdown",
     "metadata": {},
     "source": [
      "boolean masks"
     ]
    },
    {
     "cell_type": "code",
     "collapsed": false,
     "input": [
      "np.random.seed(3)\n",
      "a = np.random.random_integers(0,20,15)\n",
      "print a\n",
      "mask = (a%3)==0\n",
      "\n",
      "a[a%3 == 0] = -1\n",
      "print a\n",
      "print\n",
      "efa = a[mask]\n",
      "print efa"
     ],
     "language": "python",
     "metadata": {},
     "outputs": [
      {
       "output_type": "stream",
       "stream": "stdout",
       "text": [
        "[10  3  8  0 19 10 11  9 10  6  0 20 12  7 14]\n",
        "[10 -1  8 -1 19 10 11 -1 10 -1 -1 20 -1  7 14]\n",
        "\n",
        "[-1 -1 -1 -1 -1 -1]\n"
       ]
      }
     ],
     "prompt_number": 111
    },
    {
     "cell_type": "markdown",
     "metadata": {},
     "source": [
      "array operations"
     ]
    },
    {
     "cell_type": "code",
     "collapsed": false,
     "input": [
      "a= np.array(range(4),dtype=float)\n",
      "a*2\n",
      "print a*2"
     ],
     "language": "python",
     "metadata": {},
     "outputs": [
      {
       "output_type": "stream",
       "stream": "stdout",
       "text": [
        "[ 0.  2.  4.  6.]\n"
       ]
      }
     ],
     "prompt_number": 9
    },
    {
     "cell_type": "code",
     "collapsed": false,
     "input": [
      "somebool = [True,True,False]\n",
      "np.any(somebool)"
     ],
     "language": "python",
     "metadata": {},
     "outputs": [
      {
       "output_type": "pyout",
       "prompt_number": 12,
       "text": [
        "True"
       ]
      }
     ],
     "prompt_number": 12
    },
    {
     "cell_type": "code",
     "collapsed": false,
     "input": [],
     "language": "python",
     "metadata": {},
     "outputs": []
    }
   ],
   "metadata": {}
  }
 ]
}