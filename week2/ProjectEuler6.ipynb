{
 "metadata": {
  "name": "ProjectEuler6"
 },
 "nbformat": 3,
 "nbformat_minor": 0,
 "worksheets": [
  {
   "cells": [
    {
     "cell_type": "markdown",
     "metadata": {},
     "source": [
      "Sum square difference\n",
      "========\n",
      "Problem 6\n",
      "-------\n",
      "The sum of the squares of the first ten natural numbers is,\n",
      "\n",
      "1$^{2}$ + 2$^2$ + ... + 10$^2$ = 385\n",
      "\n",
      "The square of the sum of the first ten natural numbers is,\n",
      "\n",
      "(1 + 2 + ... + 10)$^2$ = 55$^2$ = 3025\n",
      "\n",
      "Hence the difference between the sum of the squares of the first ten natural numbers and the square of the sum is 3025 - 385 = 2640.\n",
      "\n",
      "Find the difference between the sum of the squares of the first one hundred natural numbers and the square of the sum."
     ]
    },
    {
     "cell_type": "code",
     "collapsed": false,
     "input": [
      "# sums the square of a sequence of numbers, high value inclusive\n",
      "# argument: int\n",
      "# return: int\n",
      "def sumofsquares(n):\n",
      "    tot = 0\n",
      "    for x in range(n+1):\n",
      "        tot += x**2\n",
      "    return tot\n",
      "\n",
      "# squares the sum of a sequence of numbers, high value inclusive\n",
      "# argument: int\n",
      "# return: int\n",
      "def squareofsum(n):\n",
      "    tot = 0\n",
      "    for x in range(n+1):\n",
      "        tot +=x\n",
      "    return tot**2\n",
      "number = 100\n",
      "\n",
      "print \"number is:\", number\n",
      "print \"sum of (squared terms) =\", sumofsquares(number)\n",
      "print \"square of (summed terms) =\", squareofsum(number)\n",
      "print \"difference is:\", squareofsum(number)-sumofsquares(number)\n"
     ],
     "language": "python",
     "metadata": {},
     "outputs": [
      {
       "output_type": "stream",
       "stream": "stdout",
       "text": [
        "number is: 100\n",
        "sum of (squared terms) = 338350\n",
        "square of (summed terms) = 25502500\n",
        "difference is: 25164150\n"
       ]
      }
     ],
     "prompt_number": 20
    },
    {
     "cell_type": "code",
     "collapsed": false,
     "input": [],
     "language": "python",
     "metadata": {},
     "outputs": []
    }
   ],
   "metadata": {}
  }
 ]
}